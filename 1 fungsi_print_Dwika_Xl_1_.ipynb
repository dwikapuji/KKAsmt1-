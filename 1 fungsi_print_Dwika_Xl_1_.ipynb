{
  "nbformat": 4,
  "nbformat_minor": 0,
  "metadata": {
    "colab": {
      "provenance": [],
      "authorship_tag": "ABX9TyNfABsdMFBB2zhimEa8OYHe",
      "include_colab_link": true
    },
    "kernelspec": {
      "name": "python3",
      "display_name": "Python 3"
    },
    "language_info": {
      "name": "python"
    }
  },
  "cells": [
    {
      "cell_type": "markdown",
      "metadata": {
        "id": "view-in-github",
        "colab_type": "text"
      },
      "source": [
        "<a href=\"https://colab.research.google.com/github/dwikapuji/KKAsmt1-/blob/main/1%20fungsi_print_Dwika_Xl_1_.ipynb\" target=\"_parent\"><img src=\"https://colab.research.google.com/assets/colab-badge.svg\" alt=\"Open In Colab\"/></a>"
      ]
    },
    {
      "cell_type": "markdown",
      "source": [
        "#Menampilkan Teks Bebas"
      ],
      "metadata": {
        "id": "tYndGQvJGVvk"
      }
    },
    {
      "cell_type": "code",
      "source": [],
      "metadata": {
        "id": "yAzcbpP9BTY1"
      },
      "execution_count": null,
      "outputs": []
    },
    {
      "cell_type": "code",
      "execution_count": null,
      "metadata": {
        "colab": {
          "base_uri": "https://localhost:8080/"
        },
        "id": "yyh5Wa1vFAGU",
        "outputId": "b790a9dd-3999-44a8-bc33-6aa120b14c42"
      },
      "outputs": [
        {
          "output_type": "stream",
          "name": "stdout",
          "text": [
            "Halo dunia\n"
          ]
        }
      ],
      "source": [
        "print(\"Halo dunia\")"
      ]
    },
    {
      "cell_type": "code",
      "source": [
        "print(\"Halo ika\")"
      ],
      "metadata": {
        "colab": {
          "base_uri": "https://localhost:8080/"
        },
        "id": "Ttt6viVQFoVV",
        "outputId": "77adac4a-c3d6-4815-f4ac-72e5434e7caf"
      },
      "execution_count": null,
      "outputs": [
        {
          "output_type": "stream",
          "name": "stdout",
          "text": [
            "Halo ika\n"
          ]
        }
      ]
    },
    {
      "cell_type": "code",
      "source": [
        "print('Dwika mardina')"
      ],
      "metadata": {
        "colab": {
          "base_uri": "https://localhost:8080/"
        },
        "id": "TXah8PppGAco",
        "outputId": "075638cd-1b95-4701-c289-423101c64918"
      },
      "execution_count": null,
      "outputs": [
        {
          "output_type": "stream",
          "name": "stdout",
          "text": [
            "Dwika mardina\n"
          ]
        }
      ]
    },
    {
      "cell_type": "markdown",
      "source": [
        "# variabel"
      ],
      "metadata": {
        "id": "Ya7ioAdHHeCC"
      }
    },
    {
      "cell_type": "code",
      "source": [
        "BB =44\n",
        "print(BB)"
      ],
      "metadata": {
        "id": "QgwoM0LnKMuA",
        "colab": {
          "base_uri": "https://localhost:8080/"
        },
        "outputId": "867a2f21-89d5-41d5-993f-a16ef48043f6"
      },
      "execution_count": null,
      "outputs": [
        {
          "output_type": "stream",
          "name": "stdout",
          "text": [
            "44\n"
          ]
        }
      ]
    },
    {
      "cell_type": "code",
      "source": [
        "BB = 50\n",
        "print(BB)"
      ],
      "metadata": {
        "colab": {
          "base_uri": "https://localhost:8080/"
        },
        "id": "c6gqoNhJHsYH",
        "outputId": "ba937698-a42d-458c-bcd0-8c3f532263dd"
      },
      "execution_count": null,
      "outputs": [
        {
          "output_type": "stream",
          "name": "stdout",
          "text": [
            "50\n"
          ]
        }
      ]
    },
    {
      "cell_type": "code",
      "source": [
        "UMUR = 16\n",
        "print(UMUR)"
      ],
      "metadata": {
        "colab": {
          "base_uri": "https://localhost:8080/"
        },
        "collapsed": true,
        "id": "pyceAp1jIWDI",
        "outputId": "4a4bb11f-e1ee-4409-d369-73ace3cf48b8"
      },
      "execution_count": null,
      "outputs": [
        {
          "output_type": "stream",
          "name": "stdout",
          "text": [
            "16\n"
          ]
        }
      ]
    },
    {
      "cell_type": "markdown",
      "source": [
        "#Menampilkan teks bebas dan variabel"
      ],
      "metadata": {
        "id": "ijmG8nJqI-Lq"
      }
    },
    {
      "cell_type": "code",
      "source": [
        "print(f\"umur saya (umur) tahun\")"
      ],
      "metadata": {
        "colab": {
          "base_uri": "https://localhost:8080/"
        },
        "id": "FxFBckuRJn_Q",
        "outputId": "f2c2ce43-109c-4d81-a92e-cd573d25b607"
      },
      "execution_count": null,
      "outputs": [
        {
          "output_type": "stream",
          "name": "stdout",
          "text": [
            "umur saya (umur) tahun\n"
          ]
        }
      ]
    },
    {
      "cell_type": "code",
      "source": [
        "harga_telur = 27000\n",
        "print(\"Harga telur per 1 kg adalah \",harga_telur)"
      ],
      "metadata": {
        "id": "mflum6uTKQFp",
        "colab": {
          "base_uri": "https://localhost:8080/"
        },
        "outputId": "0acfa28b-fa96-4295-fe12-b28faf7ea6bf"
      },
      "execution_count": null,
      "outputs": [
        {
          "output_type": "stream",
          "name": "stdout",
          "text": [
            "Harga telur per 1 kg adalah  27000\n"
          ]
        }
      ]
    },
    {
      "cell_type": "code",
      "source": [
        "nama_pembeli = \"ika\"\n",
        "print(\"Nama pembeli telur adalah \" + str(nama_pembeli))"
      ],
      "metadata": {
        "colab": {
          "base_uri": "https://localhost:8080/"
        },
        "id": "qVwR1cyFheYR",
        "outputId": "cb4e45a0-499d-4039-b76d-7ede2eee8ff6"
      },
      "execution_count": null,
      "outputs": [
        {
          "output_type": "stream",
          "name": "stdout",
          "text": [
            "Nama pembeli telur adalah ika\n"
          ]
        }
      ]
    },
    {
      "cell_type": "code",
      "source": [
        "harga_telur = 26000"
      ],
      "metadata": {
        "id": "e7H7tek6i0WK"
      },
      "execution_count": null,
      "outputs": []
    },
    {
      "cell_type": "markdown",
      "source": [
        "Latihan soal\n",
        "\n",
        "1.Tampilkan teks bebas:Hari ini saya bahagia belajar python\n",
        "2.Tampilkan nilai variabel:mata_pelajaran_favorit = kode dan kecerdasan Buatan\n",
        "3.Tampilkan nilai variabel = nilai_kka =100\n",
        "4.Tampilkan teks bebas dan nilai variabel dengan tiga metode (fstring,\"+\",\",\"):Nilai KKA saya adalah{nilai_kka} loh!\""
      ],
      "metadata": {
        "id": "TM0-QseXjLpl"
      }
    },
    {
      "cell_type": "code",
      "source": [
        "print(\"Hari ini saya bahagia belajar bahasa python\")"
      ],
      "metadata": {
        "colab": {
          "base_uri": "https://localhost:8080/"
        },
        "id": "41e0Cah73KfA",
        "outputId": "c8648245-ee9c-4ba7-bc05-637b7f1c832c"
      },
      "execution_count": null,
      "outputs": [
        {
          "output_type": "stream",
          "name": "stdout",
          "text": [
            "Hari ini saya bahagia belajar bahasa python\n"
          ]
        }
      ]
    },
    {
      "cell_type": "code",
      "source": [
        "mata_pelajaran_favorit =\"kode dan kecerdasan Buatan\"\n",
        "print(mata_pelajaran_favorit)"
      ],
      "metadata": {
        "colab": {
          "base_uri": "https://localhost:8080/"
        },
        "id": "EkdCH7cS3q32",
        "outputId": "644e8a2b-bf92-411a-9dd6-90eb136012b4"
      },
      "execution_count": null,
      "outputs": [
        {
          "output_type": "stream",
          "name": "stdout",
          "text": [
            "kode dan kecerdasan Buatan\n"
          ]
        }
      ]
    },
    {
      "cell_type": "code",
      "source": [
        "nilai_kka =\"100\"\n",
        "print(nilai_kka)"
      ],
      "metadata": {
        "colab": {
          "base_uri": "https://localhost:8080/"
        },
        "id": "dbrvMsw34QPc",
        "outputId": "07f2bc48-be7f-4a9b-fd5e-cc8c26f81f2c"
      },
      "execution_count": null,
      "outputs": [
        {
          "output_type": "stream",
          "name": "stdout",
          "text": [
            "100\n"
          ]
        }
      ]
    },
    {
      "cell_type": "code",
      "source": [
        "print(\"Nilai KKA saya adalah \" , nilai_kka +\" loh!\")"
      ],
      "metadata": {
        "colab": {
          "base_uri": "https://localhost:8080/"
        },
        "id": "2AnavwCv4dLA",
        "outputId": "fd855a53-5bdc-44df-a4a8-758609402d7f"
      },
      "execution_count": null,
      "outputs": [
        {
          "output_type": "stream",
          "name": "stdout",
          "text": [
            "Nilai KKA saya adalah  100 loh!\n"
          ]
        }
      ]
    },
    {
      "cell_type": "code",
      "source": [
        "print(\"Nilai KKA saya adalah \" + str(nilai_kka))"
      ],
      "metadata": {
        "colab": {
          "base_uri": "https://localhost:8080/"
        },
        "id": "1cmAOUk94-af",
        "outputId": "b805c3e1-c8ab-4c03-ecd1-b026831e78f0"
      },
      "execution_count": null,
      "outputs": [
        {
          "output_type": "stream",
          "name": "stdout",
          "text": [
            "Nilai KKA saya adalah 100\n"
          ]
        }
      ]
    },
    {
      "cell_type": "code",
      "source": [
        "print(f\"Nilai KKA saya adalah {nilai_kka} loh !\")"
      ],
      "metadata": {
        "colab": {
          "base_uri": "https://localhost:8080/"
        },
        "id": "DZv7uZe25cQ8",
        "outputId": "8e53c46c-ce12-4ecb-f8c8-7fb475201bf4"
      },
      "execution_count": null,
      "outputs": [
        {
          "output_type": "stream",
          "name": "stdout",
          "text": [
            "Nilai KKA saya adalah 100 loh !\n"
          ]
        }
      ]
    },
    {
      "cell_type": "markdown",
      "source": [
        "#Escape character"
      ],
      "metadata": {
        "id": "JWUCk-q36dMv"
      }
    },
    {
      "cell_type": "code",
      "source": [
        "print(\"Nama:Dwika mardina wahyuning puji \")\n",
        "print(\"kelas:XI.1\")\n",
        "print(\"Nomor absen: 08\")"
      ],
      "metadata": {
        "colab": {
          "base_uri": "https://localhost:8080/"
        },
        "id": "OsWGxHjG6srl",
        "outputId": "6fbf9897-c8d7-44d9-812f-12aeb106093f"
      },
      "execution_count": null,
      "outputs": [
        {
          "output_type": "stream",
          "name": "stdout",
          "text": [
            "Nama:Dwika mardina wahyuning puji \n",
            "kelas:XI.1\n",
            "Nomor absen: 08\n"
          ]
        }
      ]
    },
    {
      "cell_type": "code",
      "source": [
        "print(\"Nama:Dwika mardina wahyuning puji\\nkelas:XI.1\\nomor absen:08\")"
      ],
      "metadata": {
        "colab": {
          "base_uri": "https://localhost:8080/"
        },
        "id": "cqMuKN7O7N1V",
        "outputId": "643ea798-bd7c-40f5-b8a0-ed5f8038b9c9"
      },
      "execution_count": null,
      "outputs": [
        {
          "output_type": "stream",
          "name": "stdout",
          "text": [
            "Nama:Dwika mardina wahyuning puji\n",
            "kelas:XI.1\n",
            "omor absen:08\n"
          ]
        }
      ]
    },
    {
      "cell_type": "code",
      "source": [
        "print(\"\"\"Nama:Dwika mardina wahyuning puji\n",
        "kelas:XI.1\n",
        "Nomor absen: 08\"\"\")"
      ],
      "metadata": {
        "colab": {
          "base_uri": "https://localhost:8080/"
        },
        "id": "tOKvSrkc7uss",
        "outputId": "3ebe7446-f717-48b6-8c91-b98ba1617504"
      },
      "execution_count": null,
      "outputs": [
        {
          "output_type": "stream",
          "name": "stdout",
          "text": [
            "Nama:Dwika mardina wahyuning puji \n",
            "kelas:XI.1\n",
            "Nomor absen: 08\n"
          ]
        }
      ]
    },
    {
      "cell_type": "code",
      "source": [
        "print(\"Nama\\t\\t:Dwika mardina wahyuning puji \\nkelas\\t\\t:XI.1\\nNomor absen\\t:08\")"
      ],
      "metadata": {
        "colab": {
          "base_uri": "https://localhost:8080/"
        },
        "id": "jlwKkuV88EBg",
        "outputId": "88054c53-6f20-41ce-effc-250369ebceb9"
      },
      "execution_count": null,
      "outputs": [
        {
          "output_type": "stream",
          "name": "stdout",
          "text": [
            "Nama\t\t:Dwika mardina wahyuning puji \n",
            "kelas\t\t:XI.1\n",
            "Nomor absen\t:08\n"
          ]
        }
      ]
    },
    {
      "cell_type": "markdown",
      "source": [
        "# parameter print fungsi"
      ],
      "metadata": {
        "id": "cYaJGpEtL9x2"
      }
    },
    {
      "cell_type": "code",
      "source": [
        "print(\"ja'far shodiq\")"
      ],
      "metadata": {
        "id": "IvRJTGlUBmXn",
        "colab": {
          "base_uri": "https://localhost:8080/"
        },
        "outputId": "6fad263f-1fbc-42ea-fb2c-211582ba34cf"
      },
      "execution_count": null,
      "outputs": [
        {
          "output_type": "stream",
          "name": "stdout",
          "text": [
            "ja'far shodiq\n"
          ]
        }
      ]
    },
    {
      "cell_type": "code",
      "source": [
        "print(\"Bu sinta berkata,\\\"semua harus menyimak pelajaran.\\\"\")"
      ],
      "metadata": {
        "colab": {
          "base_uri": "https://localhost:8080/"
        },
        "id": "0SsgzRkPC37C",
        "outputId": "6898478c-3839-4be8-c06b-3c0492146c38"
      },
      "execution_count": null,
      "outputs": [
        {
          "output_type": "stream",
          "name": "stdout",
          "text": [
            "Bu sinta berkata,\"semua harus menyimak pelajaran.\"\n"
          ]
        }
      ]
    },
    {
      "cell_type": "code",
      "source": [
        "print('Bu shinta berkata ,\"semua harus menyimak pelajaran.\"')"
      ],
      "metadata": {
        "colab": {
          "base_uri": "https://localhost:8080/"
        },
        "id": "DHbIC2oYDRR9",
        "outputId": "d9949564-7e17-4ea6-83fe-0de96257c9df"
      },
      "execution_count": null,
      "outputs": [
        {
          "output_type": "stream",
          "name": "stdout",
          "text": [
            "Bu shinta berkata ,\"semua harus menyimak pelajaran.\"\n"
          ]
        }
      ]
    },
    {
      "cell_type": "code",
      "source": [
        "print (\"Lokasi file vidio karnaval ada di D:\\\\karnaval 2025\\\\mp4\")"
      ],
      "metadata": {
        "colab": {
          "base_uri": "https://localhost:8080/"
        },
        "id": "FWZc3X_6DyLu",
        "outputId": "acf523b4-ff39-4a9f-e406-c4c274d75c5b"
      },
      "execution_count": null,
      "outputs": [
        {
          "output_type": "stream",
          "name": "stdout",
          "text": [
            "Lokasi file vidio karnaval ada di D:\\karnaval 2025\\mp4\n"
          ]
        }
      ]
    },
    {
      "cell_type": "code",
      "source": [
        "Tahun = 2009\n",
        "Bulan = \"april\"\n",
        "Tanggal = 28\n",
        "\n",
        "print(Tanggal, end=\"\")\n",
        "print(Bulan,end=\"\")\n",
        "print(Tahun)"
      ],
      "metadata": {
        "colab": {
          "base_uri": "https://localhost:8080/"
        },
        "id": "k0NIn0UmHCHs",
        "outputId": "ff88cb6a-7544-479c-9f69-0b9a17ce624e"
      },
      "execution_count": null,
      "outputs": [
        {
          "output_type": "stream",
          "name": "stdout",
          "text": [
            "28april2009\n"
          ]
        }
      ]
    },
    {
      "cell_type": "code",
      "source": [
        "Tahun= 2009\n",
        "Bulan= \"april\"\n",
        "Tanggal = 28\n",
        "\n",
        "print(Tanggal,Bulan,Tahun,sep=\"/\")"
      ],
      "metadata": {
        "colab": {
          "base_uri": "https://localhost:8080/"
        },
        "id": "8VNhau8hJmwl",
        "outputId": "4fcb3db1-fe9f-4ef7-c813-08b20661f566"
      },
      "execution_count": null,
      "outputs": [
        {
          "output_type": "stream",
          "name": "stdout",
          "text": [
            "28/april/2009\n"
          ]
        }
      ]
    },
    {
      "cell_type": "markdown",
      "source": [
        "Latihan\n",
        "Tanggal-Bulan-Tanggal-Bulan-Tahun"
      ],
      "metadata": {
        "id": "-5d-aF_cKuGa"
      }
    },
    {
      "cell_type": "code",
      "source": [
        "Nama_depan=\"Dwika\"\n",
        "Nama_Nama_belakang=\"mardina\"\n",
        "\n",
        "print(Nama_depan,Nama_Nama_belakang)"
      ],
      "metadata": {
        "colab": {
          "base_uri": "https://localhost:8080/"
        },
        "id": "nSpVA3_5Korv",
        "outputId": "b5ab1043-41c6-4572-f3f9-926065518fea"
      },
      "execution_count": null,
      "outputs": [
        {
          "output_type": "stream",
          "name": "stdout",
          "text": [
            "Dwika mardina\n"
          ]
        }
      ]
    },
    {
      "cell_type": "markdown",
      "source": [
        "soal"
      ],
      "metadata": {
        "id": "oWePAaSrMPTU"
      }
    },
    {
      "cell_type": "code",
      "source": [
        "print(\"Bu Shinta berkata, \\\"berikut adalah judul pelajaran hari senin selasa rabu silakan disimpan di laptop masing masing di folder local disk D:\\\\jadwal pelajaran\\\\kelas Xl semester l.\\\"\")\n",
        "print(\"\\njadwal pelajaran Mingguan\")\n",
        "print(\"=========================================================\")\n",
        "print(\"Jam\\tsenin\\t\\tselasa\\t\\trabu\")\n",
        "print(\"Jam 1\\tMatematika\\tBahasa\\t\\tInformatika\")\n",
        "print(\"Jam 2\\tBahasa Ing.\\tsejarah\\t\\tMa'rifatullah\")\n",
        "print(\"Jam 3\\tInformatika\\tolahraga\\tBiologi\")"
      ],
      "metadata": {
        "colab": {
          "base_uri": "https://localhost:8080/"
        },
        "id": "ZwoOlzzDOEZP",
        "outputId": "e402e0a2-fe87-47a5-d742-d423cf27253d"
      },
      "execution_count": null,
      "outputs": [
        {
          "output_type": "stream",
          "name": "stdout",
          "text": [
            "Bu Shinta berkata, \"berikut adalah judul pelajaran hari senin selasa rabu silakan disimpan di laptop masing masing di folder local disk D:\\jadwal pelajaran\\kelas Xl semester l.\"\n",
            "\n",
            "jadwal pelajaran Mingguan\n",
            "=========================================================\n",
            "Jam\tsenin\t\tselasa\t\trabu\n",
            "Jam 1\tMatematika\tBahasa\t\tInformatika\n",
            "Jam 2\tBahasa Ing.\tsejarah\t\tMa'rifatullah\n",
            "Jam 3\tInformatika\tolahraga\tBiologi\n"
          ]
        }
      ]
    },
    {
      "cell_type": "code",
      "source": [],
      "metadata": {
        "id": "Q4J4Qh79E3Re"
      },
      "execution_count": null,
      "outputs": []
    },
    {
      "cell_type": "markdown",
      "source": [
        "parameter fungsi"
      ],
      "metadata": {
        "id": "3GPBU9aOFey3"
      }
    },
    {
      "cell_type": "code",
      "source": [
        "nama_siswa_1=\"favian\"\n",
        "nama_siswa_2=\"naufal\"\n",
        "nama_siswa_3=\"humaira\"\n",
        "\n",
        "print(nama_siswa_1,nama_siswa_2,nama_siswa_3, sep = \"*\")"
      ],
      "metadata": {
        "id": "Iyk8DAtJJbiU",
        "colab": {
          "base_uri": "https://localhost:8080/"
        },
        "outputId": "500d487a-8d5a-4460-e019-7af341523135"
      },
      "execution_count": null,
      "outputs": [
        {
          "output_type": "stream",
          "name": "stdout",
          "text": [
            "favian*naufal*humaira\n"
          ]
        }
      ]
    },
    {
      "cell_type": "code",
      "source": [
        "nama_siswa_1=\"favian\"\n",
        "nama_siswa_2=\"naufal\"\n",
        "nama_siswa_3=\"humaira\"\n",
        "print(nama_siswa_1,nama_siswa_2, nama_siswa_3 ,sep =\"#\")"
      ],
      "metadata": {
        "colab": {
          "base_uri": "https://localhost:8080/"
        },
        "id": "Hy3DYb4hKc95",
        "outputId": "ce41e4f9-d287-4cc2-c8da-cc51f78312ae"
      },
      "execution_count": null,
      "outputs": [
        {
          "output_type": "stream",
          "name": "stdout",
          "text": [
            "favian#naufal#humaira\n"
          ]
        }
      ]
    }
  ]
}