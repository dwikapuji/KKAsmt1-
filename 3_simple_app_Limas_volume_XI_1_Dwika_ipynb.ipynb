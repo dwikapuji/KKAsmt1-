{
  "nbformat": 4,
  "nbformat_minor": 0,
  "metadata": {
    "colab": {
      "provenance": [],
      "authorship_tag": "ABX9TyPXTmOntzHIIrkDborTRwta",
      "include_colab_link": true
    },
    "kernelspec": {
      "name": "python3",
      "display_name": "Python 3"
    },
    "language_info": {
      "name": "python"
    }
  },
  "cells": [
    {
      "cell_type": "markdown",
      "metadata": {
        "id": "view-in-github",
        "colab_type": "text"
      },
      "source": [
        "<a href=\"https://colab.research.google.com/github/dwikapuji/KKAsmt1-/blob/main/3_simple_app_Limas_volume_XI_1_Dwika_ipynb.ipynb\" target=\"_parent\"><img src=\"https://colab.research.google.com/assets/colab-badge.svg\" alt=\"Open In Colab\"/></a>"
      ]
    },
    {
      "cell_type": "markdown",
      "source": [
        "Nama = Dwika mardina wahyuning puji\n",
        "\n",
        "Kelas = XI-1\n",
        "\n",
        "No absen = 08\n",
        "\n",
        "Nama kelompok = Bunga abadi"
      ],
      "metadata": {
        "id": "QmWTYOA2mD4v"
      }
    },
    {
      "cell_type": "markdown",
      "source": [
        "#Aplikasi Sederhana Menghitung Volume Limas"
      ],
      "metadata": {
        "id": "6fu5GSwfnvxO"
      }
    },
    {
      "cell_type": "code",
      "source": [
        "alas = float(input(\"silahkan masukan alas limas (cm): \"))\n",
        "tinggi_alas = float(input(\"silahkan masukan tinggi alas (cm): \"))\n",
        "tinggi_limas = float(input(\"silahkan masukan tinggi limas (cm): \"))\n",
        "\n",
        "luas_alas = 0.5* alas * tinggi_alas\n",
        "print(f\"luas alas adalah {luas_alas} cm^2\")\n",
        "volume = 1/3*luas_alas*tinggi_limas\n",
        "print(f\"volume limas adalah {volume} cm^3\" )"
      ],
      "metadata": {
        "colab": {
          "base_uri": "https://localhost:8080/"
        },
        "id": "95hJfp0ZmQUd",
        "outputId": "d590f569-ec71-483e-f72c-d72712f696ff"
      },
      "execution_count": 3,
      "outputs": [
        {
          "output_type": "stream",
          "name": "stdout",
          "text": [
            "silahkan masukan alas limas (cm): 10.0\n",
            "silahkan masukan tinggi alas (cm): 15.0\n",
            "silahkan masukan tinggi limas (cm): 18.0\n",
            "luas alas adalah 75.0 cm^2\n",
            "volume limas adalah 450.0 cm^3\n"
          ]
        }
      ]
    },
    {
      "cell_type": "code",
      "source": [],
      "metadata": {
        "id": "fAwC5bi8t3Zq"
      },
      "execution_count": null,
      "outputs": []
    }
  ]
}